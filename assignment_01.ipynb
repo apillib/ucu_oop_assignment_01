{
 "cells": [
  {
   "cell_type": "markdown",
   "id": "5426b0ed",
   "metadata": {},
   "source": [
    "## UCU OOP Assignment 01\n",
    "# First: Barbra Ebal Apilli\n",
    "# Access number:\n",
    "# Registration number:"
   ]
  },
  {
   "cell_type": "code",
   "execution_count": 3,
   "id": "308837c9",
   "metadata": {},
   "outputs": [
    {
     "name": "stdout",
     "output_type": "stream",
     "text": [
      "Defaulting to user installation because normal site-packages is not writeable\n",
      "Requirement already satisfied: numpy in c:\\users\\bibai\\appdata\\local\\packages\\pythonsoftwarefoundation.python.3.13_qbz5n2kfra8p0\\localcache\\local-packages\\python313\\site-packages (2.3.3)\n",
      "Note: you may need to restart the kernel to use updated packages.\n"
     ]
    },
    {
     "name": "stderr",
     "output_type": "stream",
     "text": [
      "\n",
      "[notice] A new release of pip is available: 25.0.1 -> 25.2\n",
      "[notice] To update, run: C:\\Users\\bibai\\AppData\\Local\\Microsoft\\WindowsApps\\PythonSoftwareFoundation.Python.3.13_qbz5n2kfra8p0\\python.exe -m pip install --upgrade pip\n"
     ]
    },
    {
     "name": "stdout",
     "output_type": "stream",
     "text": [
      "Defaulting to user installation because normal site-packages is not writeable\n",
      "Requirement already satisfied: matplotlib in c:\\users\\bibai\\appdata\\local\\packages\\pythonsoftwarefoundation.python.3.13_qbz5n2kfra8p0\\localcache\\local-packages\\python313\\site-packages (3.10.6)\n",
      "Requirement already satisfied: contourpy>=1.0.1 in c:\\users\\bibai\\appdata\\local\\packages\\pythonsoftwarefoundation.python.3.13_qbz5n2kfra8p0\\localcache\\local-packages\\python313\\site-packages (from matplotlib) (1.3.3)\n",
      "Requirement already satisfied: cycler>=0.10 in c:\\users\\bibai\\appdata\\local\\packages\\pythonsoftwarefoundation.python.3.13_qbz5n2kfra8p0\\localcache\\local-packages\\python313\\site-packages (from matplotlib) (0.12.1)\n",
      "Requirement already satisfied: fonttools>=4.22.0 in c:\\users\\bibai\\appdata\\local\\packages\\pythonsoftwarefoundation.python.3.13_qbz5n2kfra8p0\\localcache\\local-packages\\python313\\site-packages (from matplotlib) (4.60.1)\n",
      "Requirement already satisfied: kiwisolver>=1.3.1 in c:\\users\\bibai\\appdata\\local\\packages\\pythonsoftwarefoundation.python.3.13_qbz5n2kfra8p0\\localcache\\local-packages\\python313\\site-packages (from matplotlib) (1.4.9)\n",
      "Requirement already satisfied: numpy>=1.23 in c:\\users\\bibai\\appdata\\local\\packages\\pythonsoftwarefoundation.python.3.13_qbz5n2kfra8p0\\localcache\\local-packages\\python313\\site-packages (from matplotlib) (2.3.3)\n",
      "Requirement already satisfied: packaging>=20.0 in c:\\users\\bibai\\appdata\\local\\packages\\pythonsoftwarefoundation.python.3.13_qbz5n2kfra8p0\\localcache\\local-packages\\python313\\site-packages (from matplotlib) (25.0)\n",
      "Requirement already satisfied: pillow>=8 in c:\\users\\bibai\\appdata\\local\\packages\\pythonsoftwarefoundation.python.3.13_qbz5n2kfra8p0\\localcache\\local-packages\\python313\\site-packages (from matplotlib) (11.3.0)\n",
      "Requirement already satisfied: pyparsing>=2.3.1 in c:\\users\\bibai\\appdata\\local\\packages\\pythonsoftwarefoundation.python.3.13_qbz5n2kfra8p0\\localcache\\local-packages\\python313\\site-packages (from matplotlib) (3.2.5)\n",
      "Requirement already satisfied: python-dateutil>=2.7 in c:\\users\\bibai\\appdata\\local\\packages\\pythonsoftwarefoundation.python.3.13_qbz5n2kfra8p0\\localcache\\local-packages\\python313\\site-packages (from matplotlib) (2.9.0.post0)\n",
      "Requirement already satisfied: six>=1.5 in c:\\users\\bibai\\appdata\\local\\packages\\pythonsoftwarefoundation.python.3.13_qbz5n2kfra8p0\\localcache\\local-packages\\python313\\site-packages (from python-dateutil>=2.7->matplotlib) (1.17.0)\n",
      "Note: you may need to restart the kernel to use updated packages.\n"
     ]
    },
    {
     "name": "stderr",
     "output_type": "stream",
     "text": [
      "\n",
      "[notice] A new release of pip is available: 25.0.1 -> 25.2\n",
      "[notice] To update, run: C:\\Users\\bibai\\AppData\\Local\\Microsoft\\WindowsApps\\PythonSoftwareFoundation.Python.3.13_qbz5n2kfra8p0\\python.exe -m pip install --upgrade pip\n"
     ]
    },
    {
     "name": "stdout",
     "output_type": "stream",
     "text": [
      "Defaulting to user installation because normal site-packages is not writeable\n",
      "Requirement already satisfied: scipy in c:\\users\\bibai\\appdata\\local\\packages\\pythonsoftwarefoundation.python.3.13_qbz5n2kfra8p0\\localcache\\local-packages\\python313\\site-packages (1.16.2)\n",
      "Requirement already satisfied: numpy<2.6,>=1.25.2 in c:\\users\\bibai\\appdata\\local\\packages\\pythonsoftwarefoundation.python.3.13_qbz5n2kfra8p0\\localcache\\local-packages\\python313\\site-packages (from scipy) (2.3.3)\n",
      "Note: you may need to restart the kernel to use updated packages.\n"
     ]
    },
    {
     "name": "stderr",
     "output_type": "stream",
     "text": [
      "\n",
      "[notice] A new release of pip is available: 25.0.1 -> 25.2\n",
      "[notice] To update, run: C:\\Users\\bibai\\AppData\\Local\\Microsoft\\WindowsApps\\PythonSoftwareFoundation.Python.3.13_qbz5n2kfra8p0\\python.exe -m pip install --upgrade pip\n"
     ]
    },
    {
     "name": "stdout",
     "output_type": "stream",
     "text": [
      "Defaulting to user installation because normal site-packages is not writeable\n",
      "Requirement already satisfied: ipykernel in c:\\users\\bibai\\appdata\\local\\packages\\pythonsoftwarefoundation.python.3.13_qbz5n2kfra8p0\\localcache\\local-packages\\python313\\site-packages (6.30.1)\n",
      "Requirement already satisfied: comm>=0.1.1 in c:\\users\\bibai\\appdata\\local\\packages\\pythonsoftwarefoundation.python.3.13_qbz5n2kfra8p0\\localcache\\local-packages\\python313\\site-packages (from ipykernel) (0.2.3)\n",
      "Requirement already satisfied: debugpy>=1.6.5 in c:\\users\\bibai\\appdata\\local\\packages\\pythonsoftwarefoundation.python.3.13_qbz5n2kfra8p0\\localcache\\local-packages\\python313\\site-packages (from ipykernel) (1.8.17)\n",
      "Requirement already satisfied: ipython>=7.23.1 in c:\\users\\bibai\\appdata\\local\\packages\\pythonsoftwarefoundation.python.3.13_qbz5n2kfra8p0\\localcache\\local-packages\\python313\\site-packages (from ipykernel) (9.6.0)\n",
      "Requirement already satisfied: jupyter-client>=8.0.0 in c:\\users\\bibai\\appdata\\local\\packages\\pythonsoftwarefoundation.python.3.13_qbz5n2kfra8p0\\localcache\\local-packages\\python313\\site-packages (from ipykernel) (8.6.3)\n",
      "Requirement already satisfied: jupyter-core!=5.0.*,>=4.12 in c:\\users\\bibai\\appdata\\local\\packages\\pythonsoftwarefoundation.python.3.13_qbz5n2kfra8p0\\localcache\\local-packages\\python313\\site-packages (from ipykernel) (5.8.1)\n",
      "Requirement already satisfied: matplotlib-inline>=0.1 in c:\\users\\bibai\\appdata\\local\\packages\\pythonsoftwarefoundation.python.3.13_qbz5n2kfra8p0\\localcache\\local-packages\\python313\\site-packages (from ipykernel) (0.1.7)\n",
      "Requirement already satisfied: nest-asyncio>=1.4 in c:\\users\\bibai\\appdata\\local\\packages\\pythonsoftwarefoundation.python.3.13_qbz5n2kfra8p0\\localcache\\local-packages\\python313\\site-packages (from ipykernel) (1.6.0)\n",
      "Requirement already satisfied: packaging>=22 in c:\\users\\bibai\\appdata\\local\\packages\\pythonsoftwarefoundation.python.3.13_qbz5n2kfra8p0\\localcache\\local-packages\\python313\\site-packages (from ipykernel) (25.0)\n",
      "Requirement already satisfied: psutil>=5.7 in c:\\users\\bibai\\appdata\\local\\packages\\pythonsoftwarefoundation.python.3.13_qbz5n2kfra8p0\\localcache\\local-packages\\python313\\site-packages (from ipykernel) (7.1.0)\n",
      "Requirement already satisfied: pyzmq>=25 in c:\\users\\bibai\\appdata\\local\\packages\\pythonsoftwarefoundation.python.3.13_qbz5n2kfra8p0\\localcache\\local-packages\\python313\\site-packages (from ipykernel) (27.1.0)\n",
      "Requirement already satisfied: tornado>=6.2 in c:\\users\\bibai\\appdata\\local\\packages\\pythonsoftwarefoundation.python.3.13_qbz5n2kfra8p0\\localcache\\local-packages\\python313\\site-packages (from ipykernel) (6.5.2)\n",
      "Requirement already satisfied: traitlets>=5.4.0 in c:\\users\\bibai\\appdata\\local\\packages\\pythonsoftwarefoundation.python.3.13_qbz5n2kfra8p0\\localcache\\local-packages\\python313\\site-packages (from ipykernel) (5.14.3)\n",
      "Requirement already satisfied: colorama in c:\\users\\bibai\\appdata\\local\\packages\\pythonsoftwarefoundation.python.3.13_qbz5n2kfra8p0\\localcache\\local-packages\\python313\\site-packages (from ipython>=7.23.1->ipykernel) (0.4.6)\n",
      "Requirement already satisfied: decorator in c:\\users\\bibai\\appdata\\local\\packages\\pythonsoftwarefoundation.python.3.13_qbz5n2kfra8p0\\localcache\\local-packages\\python313\\site-packages (from ipython>=7.23.1->ipykernel) (5.2.1)\n",
      "Requirement already satisfied: ipython-pygments-lexers in c:\\users\\bibai\\appdata\\local\\packages\\pythonsoftwarefoundation.python.3.13_qbz5n2kfra8p0\\localcache\\local-packages\\python313\\site-packages (from ipython>=7.23.1->ipykernel) (1.1.1)\n",
      "Requirement already satisfied: jedi>=0.16 in c:\\users\\bibai\\appdata\\local\\packages\\pythonsoftwarefoundation.python.3.13_qbz5n2kfra8p0\\localcache\\local-packages\\python313\\site-packages (from ipython>=7.23.1->ipykernel) (0.19.2)\n",
      "Requirement already satisfied: prompt_toolkit<3.1.0,>=3.0.41 in c:\\users\\bibai\\appdata\\local\\packages\\pythonsoftwarefoundation.python.3.13_qbz5n2kfra8p0\\localcache\\local-packages\\python313\\site-packages (from ipython>=7.23.1->ipykernel) (3.0.52)\n",
      "Requirement already satisfied: pygments>=2.4.0 in c:\\users\\bibai\\appdata\\local\\packages\\pythonsoftwarefoundation.python.3.13_qbz5n2kfra8p0\\localcache\\local-packages\\python313\\site-packages (from ipython>=7.23.1->ipykernel) (2.19.2)\n",
      "Requirement already satisfied: stack_data in c:\\users\\bibai\\appdata\\local\\packages\\pythonsoftwarefoundation.python.3.13_qbz5n2kfra8p0\\localcache\\local-packages\\python313\\site-packages (from ipython>=7.23.1->ipykernel) (0.6.3)\n",
      "Requirement already satisfied: python-dateutil>=2.8.2 in c:\\users\\bibai\\appdata\\local\\packages\\pythonsoftwarefoundation.python.3.13_qbz5n2kfra8p0\\localcache\\local-packages\\python313\\site-packages (from jupyter-client>=8.0.0->ipykernel) (2.9.0.post0)\n",
      "Requirement already satisfied: platformdirs>=2.5 in c:\\users\\bibai\\appdata\\local\\packages\\pythonsoftwarefoundation.python.3.13_qbz5n2kfra8p0\\localcache\\local-packages\\python313\\site-packages (from jupyter-core!=5.0.*,>=4.12->ipykernel) (4.4.0)\n",
      "Requirement already satisfied: pywin32>=300 in c:\\users\\bibai\\appdata\\local\\packages\\pythonsoftwarefoundation.python.3.13_qbz5n2kfra8p0\\localcache\\local-packages\\python313\\site-packages (from jupyter-core!=5.0.*,>=4.12->ipykernel) (311)\n",
      "Requirement already satisfied: parso<0.9.0,>=0.8.4 in c:\\users\\bibai\\appdata\\local\\packages\\pythonsoftwarefoundation.python.3.13_qbz5n2kfra8p0\\localcache\\local-packages\\python313\\site-packages (from jedi>=0.16->ipython>=7.23.1->ipykernel) (0.8.5)\n",
      "Requirement already satisfied: wcwidth in c:\\users\\bibai\\appdata\\local\\packages\\pythonsoftwarefoundation.python.3.13_qbz5n2kfra8p0\\localcache\\local-packages\\python313\\site-packages (from prompt_toolkit<3.1.0,>=3.0.41->ipython>=7.23.1->ipykernel) (0.2.14)\n",
      "Requirement already satisfied: six>=1.5 in c:\\users\\bibai\\appdata\\local\\packages\\pythonsoftwarefoundation.python.3.13_qbz5n2kfra8p0\\localcache\\local-packages\\python313\\site-packages (from python-dateutil>=2.8.2->jupyter-client>=8.0.0->ipykernel) (1.17.0)\n",
      "Requirement already satisfied: executing>=1.2.0 in c:\\users\\bibai\\appdata\\local\\packages\\pythonsoftwarefoundation.python.3.13_qbz5n2kfra8p0\\localcache\\local-packages\\python313\\site-packages (from stack_data->ipython>=7.23.1->ipykernel) (2.2.1)\n",
      "Requirement already satisfied: asttokens>=2.1.0 in c:\\users\\bibai\\appdata\\local\\packages\\pythonsoftwarefoundation.python.3.13_qbz5n2kfra8p0\\localcache\\local-packages\\python313\\site-packages (from stack_data->ipython>=7.23.1->ipykernel) (3.0.0)\n",
      "Requirement already satisfied: pure-eval in c:\\users\\bibai\\appdata\\local\\packages\\pythonsoftwarefoundation.python.3.13_qbz5n2kfra8p0\\localcache\\local-packages\\python313\\site-packages (from stack_data->ipython>=7.23.1->ipykernel) (0.2.3)\n",
      "Note: you may need to restart the kernel to use updated packages.\n"
     ]
    },
    {
     "name": "stderr",
     "output_type": "stream",
     "text": [
      "\n",
      "[notice] A new release of pip is available: 25.0.1 -> 25.2\n",
      "[notice] To update, run: C:\\Users\\bibai\\AppData\\Local\\Microsoft\\WindowsApps\\PythonSoftwareFoundation.Python.3.13_qbz5n2kfra8p0\\python.exe -m pip install --upgrade pip\n"
     ]
    },
    {
     "name": "stdout",
     "output_type": "stream",
     "text": [
      "Defaulting to user installation because normal site-packages is not writeable\n",
      "Collecting ipywidgets\n",
      "  Downloading ipywidgets-8.1.7-py3-none-any.whl.metadata (2.4 kB)\n",
      "Requirement already satisfied: comm>=0.1.3 in c:\\users\\bibai\\appdata\\local\\packages\\pythonsoftwarefoundation.python.3.13_qbz5n2kfra8p0\\localcache\\local-packages\\python313\\site-packages (from ipywidgets) (0.2.3)\n",
      "Requirement already satisfied: ipython>=6.1.0 in c:\\users\\bibai\\appdata\\local\\packages\\pythonsoftwarefoundation.python.3.13_qbz5n2kfra8p0\\localcache\\local-packages\\python313\\site-packages (from ipywidgets) (9.6.0)\n",
      "Requirement already satisfied: traitlets>=4.3.1 in c:\\users\\bibai\\appdata\\local\\packages\\pythonsoftwarefoundation.python.3.13_qbz5n2kfra8p0\\localcache\\local-packages\\python313\\site-packages (from ipywidgets) (5.14.3)\n",
      "Collecting widgetsnbextension~=4.0.14 (from ipywidgets)\n",
      "  Downloading widgetsnbextension-4.0.14-py3-none-any.whl.metadata (1.6 kB)\n",
      "Collecting jupyterlab_widgets~=3.0.15 (from ipywidgets)\n",
      "  Downloading jupyterlab_widgets-3.0.15-py3-none-any.whl.metadata (20 kB)\n",
      "Requirement already satisfied: colorama in c:\\users\\bibai\\appdata\\local\\packages\\pythonsoftwarefoundation.python.3.13_qbz5n2kfra8p0\\localcache\\local-packages\\python313\\site-packages (from ipython>=6.1.0->ipywidgets) (0.4.6)\n",
      "Requirement already satisfied: decorator in c:\\users\\bibai\\appdata\\local\\packages\\pythonsoftwarefoundation.python.3.13_qbz5n2kfra8p0\\localcache\\local-packages\\python313\\site-packages (from ipython>=6.1.0->ipywidgets) (5.2.1)\n",
      "Requirement already satisfied: ipython-pygments-lexers in c:\\users\\bibai\\appdata\\local\\packages\\pythonsoftwarefoundation.python.3.13_qbz5n2kfra8p0\\localcache\\local-packages\\python313\\site-packages (from ipython>=6.1.0->ipywidgets) (1.1.1)\n",
      "Requirement already satisfied: jedi>=0.16 in c:\\users\\bibai\\appdata\\local\\packages\\pythonsoftwarefoundation.python.3.13_qbz5n2kfra8p0\\localcache\\local-packages\\python313\\site-packages (from ipython>=6.1.0->ipywidgets) (0.19.2)\n",
      "Requirement already satisfied: matplotlib-inline in c:\\users\\bibai\\appdata\\local\\packages\\pythonsoftwarefoundation.python.3.13_qbz5n2kfra8p0\\localcache\\local-packages\\python313\\site-packages (from ipython>=6.1.0->ipywidgets) (0.1.7)\n",
      "Requirement already satisfied: prompt_toolkit<3.1.0,>=3.0.41 in c:\\users\\bibai\\appdata\\local\\packages\\pythonsoftwarefoundation.python.3.13_qbz5n2kfra8p0\\localcache\\local-packages\\python313\\site-packages (from ipython>=6.1.0->ipywidgets) (3.0.52)\n",
      "Requirement already satisfied: pygments>=2.4.0 in c:\\users\\bibai\\appdata\\local\\packages\\pythonsoftwarefoundation.python.3.13_qbz5n2kfra8p0\\localcache\\local-packages\\python313\\site-packages (from ipython>=6.1.0->ipywidgets) (2.19.2)\n",
      "Requirement already satisfied: stack_data in c:\\users\\bibai\\appdata\\local\\packages\\pythonsoftwarefoundation.python.3.13_qbz5n2kfra8p0\\localcache\\local-packages\\python313\\site-packages (from ipython>=6.1.0->ipywidgets) (0.6.3)\n",
      "Requirement already satisfied: parso<0.9.0,>=0.8.4 in c:\\users\\bibai\\appdata\\local\\packages\\pythonsoftwarefoundation.python.3.13_qbz5n2kfra8p0\\localcache\\local-packages\\python313\\site-packages (from jedi>=0.16->ipython>=6.1.0->ipywidgets) (0.8.5)\n",
      "Requirement already satisfied: wcwidth in c:\\users\\bibai\\appdata\\local\\packages\\pythonsoftwarefoundation.python.3.13_qbz5n2kfra8p0\\localcache\\local-packages\\python313\\site-packages (from prompt_toolkit<3.1.0,>=3.0.41->ipython>=6.1.0->ipywidgets) (0.2.14)\n",
      "Requirement already satisfied: executing>=1.2.0 in c:\\users\\bibai\\appdata\\local\\packages\\pythonsoftwarefoundation.python.3.13_qbz5n2kfra8p0\\localcache\\local-packages\\python313\\site-packages (from stack_data->ipython>=6.1.0->ipywidgets) (2.2.1)\n",
      "Requirement already satisfied: asttokens>=2.1.0 in c:\\users\\bibai\\appdata\\local\\packages\\pythonsoftwarefoundation.python.3.13_qbz5n2kfra8p0\\localcache\\local-packages\\python313\\site-packages (from stack_data->ipython>=6.1.0->ipywidgets) (3.0.0)\n",
      "Requirement already satisfied: pure-eval in c:\\users\\bibai\\appdata\\local\\packages\\pythonsoftwarefoundation.python.3.13_qbz5n2kfra8p0\\localcache\\local-packages\\python313\\site-packages (from stack_data->ipython>=6.1.0->ipywidgets) (0.2.3)\n",
      "Downloading ipywidgets-8.1.7-py3-none-any.whl (139 kB)\n",
      "Downloading jupyterlab_widgets-3.0.15-py3-none-any.whl (216 kB)\n",
      "Downloading widgetsnbextension-4.0.14-py3-none-any.whl (2.2 MB)\n",
      "   ---------------------------------------- 0.0/2.2 MB ? eta -:--:--\n",
      "   ------------------- -------------------- 1.0/2.2 MB 7.5 MB/s eta 0:00:01\n",
      "   ---------------------------------------- 2.2/2.2 MB 7.7 MB/s eta 0:00:00\n",
      "Installing collected packages: widgetsnbextension, jupyterlab_widgets, ipywidgets\n",
      "Successfully installed ipywidgets-8.1.7 jupyterlab_widgets-3.0.15 widgetsnbextension-4.0.14\n",
      "Note: you may need to restart the kernel to use updated packages.\n"
     ]
    },
    {
     "name": "stderr",
     "output_type": "stream",
     "text": [
      "\n",
      "[notice] A new release of pip is available: 25.0.1 -> 25.2\n",
      "[notice] To update, run: C:\\Users\\bibai\\AppData\\Local\\Microsoft\\WindowsApps\\PythonSoftwareFoundation.Python.3.13_qbz5n2kfra8p0\\python.exe -m pip install --upgrade pip\n"
     ]
    }
   ],
   "source": [
    "%pip install -U numpy\n",
    "%pip install -U matplotlib\n",
    "%pip install -U scipy\n",
    "%pip install -U ipykernel\n",
    "%pip install -U ipywidgets"
   ]
  },
  {
   "cell_type": "code",
   "execution_count": 25,
   "id": "d5291688",
   "metadata": {},
   "outputs": [],
   "source": [
    "import numpy as np\n",
    "import statistics as stat\n",
    "from scipy import linalg\n",
    "import matplotlib.pyplot as plt\n",
    "from ipywidgets import widgets\n",
    "from IPython.display import display\n",
    "import random"
   ]
  },
  {
   "cell_type": "markdown",
   "id": "925a32f8",
   "metadata": {},
   "source": [
    "Question 1: UBOS Multi-District Population & Growth Forecast "
   ]
  },
  {
   "cell_type": "code",
   "execution_count": null,
   "id": "1bada8e8",
   "metadata": {},
   "outputs": [],
   "source": [
    "\n",
    "# 1.1\n",
    "kampala = np.array([1200, 1250, 1300, 1350, 1420, 1500, 1580, 1650, 1720, 1800])\n",
    "wakiso  = np.array([950, 1000, 1070, 1150, 1220, 1300, 1390, 1480, 1570, 1670])\n",
    "gulu    = np.array([320, 330, 345, 360, 375, 390, 410, 430, 455, 480])\n",
    "\n",
    "print(kampala)\n",
    "print(wakiso)\n",
    "print(gulu)"
   ]
  },
  {
   "cell_type": "code",
   "execution_count": null,
   "id": "c4edf492",
   "metadata": {},
   "outputs": [],
   "source": [
    "# 1.2\n",
    "\n",
    "# kampala district\n",
    "print(\"Statistics for Kampala district\")\n",
    "print(\"Mean: \", stat.mean(kampala))\n",
    "print(\"Median: \", stat.median(kampala))\n",
    "print(\"Standard deviation: \", np.std(kampala))\n",
    "print(\"Variance: \", stat.variance(kampala), \"\\n\")\n",
    "\n",
    "# wakiso district\n",
    "print(\"Statistics for Wakiso district\")\n",
    "print(\"Mean: \", stat.mean(wakiso))\n",
    "print(\"Median: \", stat.median(wakiso))\n",
    "print(\"Standard deviation: \", np.std(wakiso))\n",
    "print(\"Variance: \", stat.variance(wakiso), \"\\n\")\n",
    "\n",
    "# gulu district\n",
    "print(\"Statistics for Gulu district\")\n",
    "print(\"Mean: \", stat.mean(gulu))\n",
    "print(\"Median: \", stat.median(gulu))\n",
    "print(\"Standard deviation: \", np.std(gulu))\n",
    "print(\"Variance: \", stat.variance(gulu))"
   ]
  },
  {
   "cell_type": "code",
   "execution_count": null,
   "id": "159d262f",
   "metadata": {},
   "outputs": [],
   "source": [
    "# 1.3\n",
    "\n",
    "# started the fibonnaci sequence from 1: 1,1,2,3,5\n",
    "n = 5\n",
    "fib=np.zeros(n, dtype=int)\n",
    "fib[0]=1\n",
    "fib[1]=1\n",
    "for k in range(n-2):\n",
    "    fib[k+2] = fib[k+1]+fib[k]\n",
    "\n",
    "print(\"fibonacci sequence to use: \", fib)\n",
    "\n",
    "# project the next five years of growth, how?\n",
    "kla_projected = kampala[-5:] * fib \n",
    "wak_projected = wakiso[-5:] * fib\n",
    "glu_projected = gulu[-5:] * fib\n",
    "\n",
    "print(\"Kampala projection: \", kla_projected)\n",
    "print(\"Wakiso projection: \", wak_projected)\n",
    "print(\"Gulu projection: \", glu_projected)\n"
   ]
  },
  {
   "cell_type": "code",
   "execution_count": null,
   "id": "4e1ed278",
   "metadata": {},
   "outputs": [],
   "source": [
    "# 1.4\n",
    "# compare var actual vs projected, how to compare? minus?\n",
    "\n",
    "# kampala\n",
    "kla_act_var = stat.variance(kampala)\n",
    "kla_proj_var = stat.variance(kla_projected)\n",
    "print(\"Kampala Variance Actual: \", kla_act_var, \" vs Projected: \", kla_proj_var)\n",
    "\n",
    "# wakiso\n",
    "wak_act_var = stat.variance(wakiso)\n",
    "wak_proj_var = stat.variance(wak_projected)\n",
    "print(\"Wakiso Variance Actual: \", wak_act_var, \" vs Projected: \", wak_proj_var)\n",
    "\n",
    "# gulu\n",
    "glu_act_var = stat.variance(gulu)\n",
    "glu_proj_var = stat.variance(glu_projected)\n",
    "print(\"Gulu Variance Actual: \", glu_act_var, \" vs Projected: \", glu_proj_var)"
   ]
  },
  {
   "cell_type": "code",
   "execution_count": null,
   "id": "c3114518",
   "metadata": {},
   "outputs": [],
   "source": [
    "# 1.5 Plot\n",
    "\n",
    "#Kampala\n",
    "# create a new figure with width - 9 inches and height 5 inches\n",
    "plt.figure(figsize=(9, 5))\n",
    "\n",
    "# create an array for the x-values for the actual and projected years\n",
    "years_actual = np.arange(1, len(kampala) + 1)\n",
    "years_future = np.arange(len(kampala) + 1, len(kampala) + 1 + 5)\n",
    "\n",
    "plt.plot(years_actual,kampala, marker='o', label=f\"Actual\")\n",
    "plt.plot(years_future,kla_projected, marker='x', linestyle='--', label=f\"Projected\")\n",
    "\n",
    "plt.xlabel(\"Year (index)\")\n",
    "plt.ylabel(\"Population (thousands)\")\n",
    "plt.legend()\n",
    "\n",
    "plt.title('Kampala: Actual vs Projected Populations')\n",
    "plt.show()\n",
    "\n",
    "# Wakiso\n",
    "plt.figure(figsize=(9, 5))\n",
    "plt.plot(years_actual,wakiso, marker='o', label=f\"Actual\")\n",
    "plt.plot(years_future,wak_projected, marker='x', linestyle='--', label=f\"Projected\")\n",
    "\n",
    "plt.xlabel(\"Year (index)\")\n",
    "plt.ylabel(\"Population (thousands)\")\n",
    "plt.legend()\n",
    "\n",
    "plt.title('Wakiso: Actual vs Projected Populations')\n",
    "\n",
    "plt.show()\n",
    "\n",
    "# Gulu\n",
    "plt.figure(figsize=(9, 5))\n",
    "plt.plot(years_actual,gulu, marker='o', label=f\"Actual\")\n",
    "plt.plot(years_future,glu_projected, marker='x', linestyle='--', label=f\"Projected\")\n",
    "\n",
    "plt.xlabel(\"Year (index)\")\n",
    "plt.ylabel(\"Population (thousands)\")\n",
    "plt.legend()\n",
    "\n",
    "plt.title('Gulu: Actual vs Projected Populations')\n",
    "\n",
    "plt.show()"
   ]
  },
  {
   "cell_type": "markdown",
   "id": "8aa5c2e6",
   "metadata": {},
   "source": [
    "Question 2: Solar Micro-Grid Simulation"
   ]
  },
  {
   "cell_type": "code",
   "execution_count": 21,
   "id": "3b4379dd",
   "metadata": {},
   "outputs": [
    {
     "data": {
      "application/vnd.jupyter.widget-view+json": {
       "model_id": "068e1dd502ca4d10b3d9a7784e520fb3",
       "version_major": 2,
       "version_minor": 0
      },
      "text/plain": [
       "VBox(children=(FloatText(value=7.5, description='Enter daily demand value D1:'), FloatText(value=5.5, descript…"
      ]
     },
     "metadata": {},
     "output_type": "display_data"
    },
    {
     "data": {
      "text/plain": [
       "'\\nimport ipywidgets as widgets\\nfrom IPython.display import display\\n\\n# Create widgets\\nname = widgets.Text(description=\"Name:\")\\nage = widgets.IntSlider(description=\"Age:\", min=0, max=100, value=25)\\ngender = widgets.Dropdown(\\n    options=[\"Male\", \"Female\", \"Other\"],\\n    description=\"Gender:\"\\n)\\nsubmit_button = widgets.Button(description=\"Submit\")\\n\\n# Function to handle button click\\ndef on_submit_clicked(b):\\n    print(f\"Name: {name.value}\")\\n    print(f\"Age: {age.value}\")\\n    print(f\"Gender: {gender.value}\")\\n\\n# Attach the function to the button\\nsubmit_button.on_click(on_submit_clicked)\\n\\n# Display the form\\nform = widgets.VBox([name, age, gender, submit_button])\\ndisplay(form)\\nHow It Works:\\nWidgets: The form includes a Text widget for the name, an IntSlider for the age, a Dropdown for gender selection, and a Button for submission.\\nEvent Handling: The on_submit_clicked function is triggered when the button is clicked, printing the form\\'s input values.\\nLayout: The VBox layout organizes the widgets vertically.\\nYou can expand this form by adding more widgets (e.g., checkboxes, multi-selects) or customizing the layout and styling. This makes your Jupyter Notebook interactive and user-friendly!\\n\\n'"
      ]
     },
     "execution_count": 21,
     "metadata": {},
     "output_type": "execute_result"
    }
   ],
   "source": [
    "# 2.1\n",
    "#prompt user, how to force an integer or number really\n",
    "#d1 = input(\"Enter daily demand value D1 (as a number)?:\")\n",
    "#d2 = input(\"Enter daily demand value D2 (as a number)?:\")\n",
    "import ipywidgets as widgets\n",
    "from IPython.display import display\n",
    "\n",
    "d1 = 2\n",
    "d2 = 8\n",
    "\n",
    "text = widgets.FloatText(\n",
    "    value=7.5,\n",
    "    description='Enter daily demand value D1:',\n",
    "    disabled=False\n",
    ")\n",
    "\n",
    "text_2 = widgets.FloatText(\n",
    "    value=5.5,\n",
    "    description='Enter daily demand value D1:',\n",
    "    disabled=False\n",
    ")\n",
    "\n",
    "\n",
    "button = widgets.Button(description=\"Submit\")\n",
    "\n",
    "def on_button_click(b):\n",
    "    with output:\n",
    "        print(\"button clicked\")\n",
    "        print(f\"D1: {text.value}\")\n",
    "        print(f\"D2: {text_2.value}\")\n",
    "#button.on_click(d1_on_button_click)\n",
    "\n",
    "def d1_on_button_click(b):\n",
    "    with output:\n",
    "        print(\"button clicked\")\n",
    "        print(f\"D1: {text.value}\")\n",
    "        global d1\n",
    "        d1 = int(text.value)\n",
    "\n",
    "def d2_on_button_click(b):\n",
    "    with output_2:\n",
    "        print(\"button clicked\")\n",
    "        print(f\"D2: {text.value}\")\n",
    "        global d2\n",
    "        d2 = int(text.value)\n",
    "\n",
    "\n",
    "\n",
    "\n",
    "output = widgets.Output()\n",
    "\n",
    "button.on_click(on_button_click)\n",
    "\n",
    "\n",
    "button_2 = widgets.Button(description=\"Submit\")\n",
    "\n",
    "output_2 = widgets.Output()\n",
    "\n",
    "button.on_click(d2_on_button_click)\n",
    "\n",
    "\n",
    "form = widgets.VBox([text, text_2, button, output])\n",
    "display(form)\n",
    "#display(text, text_2, button, output, output_2)\n",
    "\n",
    "\"\"\"\n",
    "import ipywidgets as widgets\n",
    "from IPython.display import display\n",
    "\n",
    "# Create widgets\n",
    "name = widgets.Text(description=\"Name:\")\n",
    "age = widgets.IntSlider(description=\"Age:\", min=0, max=100, value=25)\n",
    "gender = widgets.Dropdown(\n",
    "    options=[\"Male\", \"Female\", \"Other\"],\n",
    "    description=\"Gender:\"\n",
    ")\n",
    "submit_button = widgets.Button(description=\"Submit\")\n",
    "\n",
    "# Function to handle button click\n",
    "def on_submit_clicked(b):\n",
    "    print(f\"Name: {name.value}\")\n",
    "    print(f\"Age: {age.value}\")\n",
    "    print(f\"Gender: {gender.value}\")\n",
    "\n",
    "# Attach the function to the button\n",
    "submit_button.on_click(on_submit_clicked)\n",
    "\n",
    "# Display the form\n",
    "form = widgets.VBox([name, age, gender, submit_button])\n",
    "display(form)\n",
    "How It Works:\n",
    "Widgets: The form includes a Text widget for the name, an IntSlider for the age, a Dropdown for gender selection, and a Button for submission.\n",
    "Event Handling: The on_submit_clicked function is triggered when the button is clicked, printing the form's input values.\n",
    "Layout: The VBox layout organizes the widgets vertically.\n",
    "You can expand this form by adding more widgets (e.g., checkboxes, multi-selects) or customizing the layout and styling. This makes your Jupyter Notebook interactive and user-friendly!\n",
    "\n",
    "\"\"\"\n"
   ]
  },
  {
   "cell_type": "code",
   "execution_count": 22,
   "id": "c506a79a",
   "metadata": {},
   "outputs": [
    {
     "name": "stdout",
     "output_type": "stream",
     "text": [
      "2\n",
      "4\n",
      "Energy from solar panels and batteries: [ 1.2 -0.8]\n"
     ]
    }
   ],
   "source": [
    "# 2.2\n",
    "print(d1)\n",
    "print(d2)\n",
    "\n",
    "# 3x + 2y = D1\n",
    "# 4x + y = D2\n",
    "\n",
    "a = np.array([[3,2], [4,1]])\n",
    "b = np.array([d1,d2])\n",
    "\n",
    "solution = linalg.solve(a,b)\n",
    "\n",
    "print(\"Energy from solar panels and batteries:\", solution)"
   ]
  },
  {
   "cell_type": "code",
   "execution_count": null,
   "id": "173f08c0",
   "metadata": {},
   "outputs": [],
   "source": [
    "# 2.3\n",
    "week_demand_values = np.array([[],[]]) #eh how I will need to check\n",
    "\n",
    "for i in range(7):\n",
    "    xx = input(\"Enter daily demand value D1 (as a number) for day ?:\")\n",
    "    yy = input(\"Enter daily demand value D2 (as a number) for day ?:\")\n",
    "    # add to the array\n",
    "\n",
    "# print the array\n",
    "print(week_demand_values)"
   ]
  },
  {
   "cell_type": "code",
   "execution_count": null,
   "id": "04993dde",
   "metadata": {},
   "outputs": [],
   "source": [
    "# 2.4\n",
    "\n",
    "# eh, needs more action\n",
    "# stats!\n",
    "\n",
    "solar_values = np.array([])\n",
    "battery_values = np.array([])"
   ]
  },
  {
   "cell_type": "code",
   "execution_count": null,
   "id": "1aeadb22",
   "metadata": {},
   "outputs": [],
   "source": [
    "# 2.5\n",
    "\n",
    "plt.plot(kampala,kla_projected)\n",
    "\n",
    "plt.xlabel('Solar')\n",
    "plt.ylabel('Battery')\n",
    "\n",
    "plt.title('Solar vs Battery Usage')\n",
    "\n",
    "plt.show()"
   ]
  },
  {
   "cell_type": "markdown",
   "id": "bc561f87",
   "metadata": {},
   "source": [
    "Question 3: Lake Victoria Fish Export Risk Model"
   ]
  },
  {
   "cell_type": "code",
   "execution_count": 23,
   "id": "f2bd429f",
   "metadata": {},
   "outputs": [
    {
     "name": "stdout",
     "output_type": "stream",
     "text": [
      "Fish stock:  [  1   1   2   3   5   8  13  21  34  55  89 144 233 377 610]\n"
     ]
    }
   ],
   "source": [
    "# 3.1\n",
    "n = 15\n",
    "fish_stock=np.zeros(n, dtype=int)\n",
    "fish_stock[0]=1\n",
    "fish_stock[1]=1\n",
    "for k in range(n-2):\n",
    "    fish_stock[k+2] = fish_stock[k+1]+fib[k]\n",
    "\n",
    "print(\"Fish stock: \", fish_stock)"
   ]
  },
  {
   "cell_type": "code",
   "execution_count": 27,
   "id": "969baea4",
   "metadata": {},
   "outputs": [
    {
     "name": "stdout",
     "output_type": "stream",
     "text": [
      "Simulated fish prices:  [11674 12043 13752 15336 13612 19382 18775 12733 17515 12871 10592 12194\n",
      " 17671 16095 19554]\n"
     ]
    }
   ],
   "source": [
    "# 3.2\n",
    "# simulate fish prices as well\n",
    "fish_prices = np.random.randint(10000, 20000, size=15)\n",
    "print(\"Simulated fish prices: \", fish_prices)\n"
   ]
  },
  {
   "cell_type": "code",
   "execution_count": 28,
   "id": "3c68c8c1",
   "metadata": {},
   "outputs": [
    {
     "name": "stdout",
     "output_type": "stream",
     "text": [
      "Daily revenue:  [   11674    12043    27504    46008    68060   155056   244075   267393\n",
      "   595510   707905   942688  1755936  4117343  6067815 11927940]\n"
     ]
    }
   ],
   "source": [
    "# 3.3\n",
    "daily_revenue = fish_stock * fish_prices\n",
    "print(\"Daily revenue: \", daily_revenue)"
   ]
  },
  {
   "cell_type": "code",
   "execution_count": 32,
   "id": "b23f21f3",
   "metadata": {},
   "outputs": [
    {
     "name": "stdout",
     "output_type": "stream",
     "text": [
      "Statistics of daily revenue:\n",
      "Mean:  1796463\n",
      "Median:  267393\n",
      "Variance of revenue:  10902005107063\n"
     ]
    }
   ],
   "source": [
    "# 3.4\n",
    "print(\"Statistics of daily revenue:\")\n",
    "print(\"Mean: \",stat.mean(daily_revenue))\n",
    "print(\"Median: \", stat.median(daily_revenue))\n",
    "\n",
    "daily_revenue_variance = stat.variance(daily_revenue)\n",
    "print(\"Variance of revenue: \", daily_revenue_variance)"
   ]
  },
  {
   "cell_type": "code",
   "execution_count": 33,
   "id": "b8598a8f",
   "metadata": {},
   "outputs": [
    {
     "name": "stdout",
     "output_type": "stream",
     "text": [
      "High risk\n"
     ]
    }
   ],
   "source": [
    "# 3.5\n",
    "if daily_revenue_variance > 50000:\n",
    "    print(\"High risk\")\n",
    "else:\n",
    "    print(\"Low risk\")"
   ]
  },
  {
   "cell_type": "code",
   "execution_count": 34,
   "id": "14f9ffbc",
   "metadata": {},
   "outputs": [
    {
     "data": {
      "image/png": "[encoded data removed]",
      "text/plain": [
       "<Figure size 640x480 with 1 Axes>"
      ]
     },
     "metadata": {},
     "output_type": "display_data"
    }
   ],
   "source": [
    "# 3.5\n",
    "\n",
    "plt.plot(fish_stock,daily_revenue)\n",
    "\n",
    "plt.xlabel('Fish stock')\n",
    "plt.ylabel('Daily Revenue Trend')\n",
    "\n",
    "plt.title('Fish stock vs Daily Revenue Trend')\n",
    "\n",
    "plt.show()"
   ]
  },
  {
   "cell_type": "markdown",
   "id": "d7449b62",
   "metadata": {},
   "source": [
    "Question 4: Weather & Agriculture Analysis"
   ]
  },
  {
   "cell_type": "code",
   "execution_count": 6,
   "id": "3c1dd267",
   "metadata": {},
   "outputs": [
    {
     "name": "stdout",
     "output_type": "stream",
     "text": [
      "[120 140 180 200 220 180  90  70  60 100 110 130]\n"
     ]
    }
   ],
   "source": [
    "# 4.1\n",
    "kla_rainfall = np.array([120, 140, 180, 200, 220, 180, 90, 70, 60, 100, 110, 130])\n",
    "print(kla_rainfall)"
   ]
  },
  {
   "cell_type": "code",
   "execution_count": 10,
   "id": "364b12c3",
   "metadata": {},
   "outputs": [
    {
     "name": "stdout",
     "output_type": "stream",
     "text": [
      "Kampala mean:  133\n",
      "\n",
      "Kampala month classifications:\n",
      "  Jan: Drought risk\n",
      "  Feb: Drought risk\n",
      "  Mar: Good for maize\n",
      "  Apr: Good for maize\n",
      "  May: Good for maize\n",
      "  Jun: Good for maize\n",
      "  Jul: Drought risk\n",
      "  Aug: Drought risk\n",
      "  Sep: Drought risk\n",
      "  Oct: Drought risk\n",
      "  Nov: Drought risk\n",
      "  Dec: Drought risk\n"
     ]
    }
   ],
   "source": [
    "# 4.2\n",
    "rainfall_mean = stat.mean(kla_rainfall)\n",
    "\n",
    "print(\"Kampala mean: \", rainfall_mean)\n",
    "\n",
    "# classify months:\n",
    "months = np.array([\"Jan\",\"Feb\",\"Mar\",\"Apr\",\"May\",\"Jun\",\"Jul\",\"Aug\",\"Sep\",\"Oct\",\"Nov\",\"Dec\"])\n",
    "\n",
    "# iterate months\n",
    "rainfall_classification = {}\n",
    "for rain, mnth in zip(kla_rainfall, months):\n",
    "    if rain > 150:\n",
    "        #add to array\n",
    "        rainfall_classification[mnth] = \"Good for maize\"\n",
    "    else:\n",
    "        rainfall_classification[mnth] = \"Drought risk\"\n",
    "        \n",
    "print(\"\\nKampala month classifications:\")\n",
    "for m in months:\n",
    "    print(f\"  {m}: {rainfall_classification[m]}\")\n"
   ]
  },
  {
   "cell_type": "code",
   "execution_count": null,
   "id": "2c37c53d",
   "metadata": {},
   "outputs": [],
   "source": [
    "# 4.3\n",
    "# simulate gulu\n",
    "gulu_rainfall = np.array([])\n",
    "\n"
   ]
  },
  {
   "cell_type": "code",
   "execution_count": null,
   "id": "67d78ab9",
   "metadata": {},
   "outputs": [],
   "source": [
    "# 4.4\n",
    "# Compute cosine similarity of Kampala vs Gulu rainfall trends using math.cos(). "
   ]
  },
  {
   "cell_type": "code",
   "execution_count": null,
   "id": "c1743753",
   "metadata": {},
   "outputs": [],
   "source": [
    "# 4.5\n",
    "\n",
    "# using the cosine? or using the monthly rain?\n",
    "plt.plot(fish_stock,daily_revenue)\n",
    "\n",
    "plt.xlabel('Rainfall data')\n",
    "plt.ylabel('Months')\n",
    "\n",
    "plt.title('Kampala and Gulu Rainfall')\n",
    "\n",
    "plt.show()"
   ]
  },
  {
   "cell_type": "markdown",
   "id": "5c9af6b4",
   "metadata": {},
   "source": [
    "Question 5:  Taxi Transport Revenue & Variability"
   ]
  },
  {
   "cell_type": "code",
   "execution_count": 18,
   "id": "2872a3ae",
   "metadata": {},
   "outputs": [
    {
     "name": "stdout",
     "output_type": "stream",
     "text": [
      "[35 40 42 50 55 60 48 52 47 45]\n"
     ]
    }
   ],
   "source": [
    "# 5.1\n",
    "passenger_counts = np.array([35, 40, 42, 50, 55, 60, 48, 52, 47, 45])\n",
    "print(passenger_counts)"
   ]
  },
  {
   "cell_type": "code",
   "execution_count": 19,
   "id": "bbe69b3d",
   "metadata": {},
   "outputs": [
    {
     "name": "stdout",
     "output_type": "stream",
     "text": [
      "Daily revenues (UGX): [ 70000  80000  84000 100000 110000 120000  96000 104000  94000  90000]\n"
     ]
    }
   ],
   "source": [
    "# 5.2\n",
    "kla_ntd_revenues = passenger_counts * 2000\n",
    "print(\"Daily revenues (UGX):\", kla_ntd_revenues)\n"
   ]
  },
  {
   "cell_type": "code",
   "execution_count": 21,
   "id": "94d1a91d",
   "metadata": {},
   "outputs": [
    {
     "name": "stdout",
     "output_type": "stream",
     "text": [
      "Statistics:\n",
      "Mean:  94800\n",
      "Standard deviation:  13977.124167724918\n",
      "Variance:  217066666\n"
     ]
    }
   ],
   "source": [
    "# 5.3\n",
    "print(\"Statistics:\")\n",
    "print(\"Mean: \", stat.mean(kla_ntd_revenues))\n",
    "print(\"Standard deviation: \", np.std(kla_ntd_revenues))\n",
    "print(\"Variance: \", stat.variance(kla_ntd_revenues))"
   ]
  },
  {
   "cell_type": "code",
   "execution_count": null,
   "id": "7d7499e8",
   "metadata": {},
   "outputs": [],
   "source": [
    "# 5.4\n",
    "# okay\n",
    "# model a simple supply-demand system\n"
   ]
  },
  {
   "cell_type": "code",
   "execution_count": null,
   "id": "58924c03",
   "metadata": {},
   "outputs": [],
   "source": [
    "# 5.5\n",
    "# forecast the 11th days revenue"
   ]
  },
  {
   "cell_type": "code",
   "execution_count": null,
   "id": "95fb3325",
   "metadata": {},
   "outputs": [],
   "source": [
    "# 5.6\n",
    "plt.plot(fish_stock,daily_revenue)\n",
    "\n",
    "plt.xlabel('Rainfall data')\n",
    "plt.ylabel('Months')\n",
    "\n",
    "plt.title('Actual vs Forecasted revenues')\n",
    "\n",
    "plt.show()"
   ]
  }
 ],
 "metadata": {
  "kernelspec": {
   "display_name": "Python 3",
   "language": "python",
   "name": "python3"
  },
  "language_info": {
   "codemirror_mode": {
    "name": "ipython",
    "version": 3
   },
   "file_extension": ".py",
   "mimetype": "text/x-python",
   "name": "python",
   "nbconvert_exporter": "python",
   "pygments_lexer": "ipython3",
   "version": "3.13.3"
  }
 },
 "nbformat": 4,
 "nbformat_minor": 5
}
