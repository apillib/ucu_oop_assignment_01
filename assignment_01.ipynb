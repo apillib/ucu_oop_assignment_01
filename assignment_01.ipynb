{
 "cells": [
  {
   "cell_type": "markdown",
   "id": "5426b0ed",
   "metadata": {},
   "source": [
    "## UCU OOP Assignment 01\n",
    "# First: Barbra Ebal Apilli\n",
    "# Access number:\n",
    "# Registration number:"
   ]
  },
  {
   "cell_type": "markdown",
   "id": "925a32f8",
   "metadata": {},
   "source": [
    "Question 1: UBOS Multi-District Population & Growth Forecast "
   ]
  },
  {
   "cell_type": "code",
   "execution_count": null,
   "id": "1bada8e8",
   "metadata": {},
   "outputs": [
    {
     "ename": "ModuleNotFoundError",
     "evalue": "No module named 'numpy'",
     "output_type": "error",
     "traceback": [
      "\u001b[31m---------------------------------------------------------------------------\u001b[39m",
      "\u001b[31mModuleNotFoundError\u001b[39m                       Traceback (most recent call last)",
      "\u001b[36mCell\u001b[39m\u001b[36m \u001b[39m\u001b[32mIn[1]\u001b[39m\u001b[32m, line 1\u001b[39m\n\u001b[32m----> \u001b[39m\u001b[32m1\u001b[39m \u001b[38;5;28;01mimport\u001b[39;00m\u001b[38;5;250m \u001b[39m\u001b[34;01mnumpy\u001b[39;00m\u001b[38;5;250m \u001b[39m\u001b[38;5;28;01mas\u001b[39;00m\u001b[38;5;250m \u001b[39m\u001b[34;01mnp\u001b[39;00m\n\u001b[32m      3\u001b[39m \u001b[38;5;66;03m# 1.1\u001b[39;00m\n\u001b[32m      4\u001b[39m kampala = np.array([\u001b[32m1200\u001b[39m, \u001b[32m1250\u001b[39m, \u001b[32m1300\u001b[39m, \u001b[32m1350\u001b[39m, \u001b[32m1420\u001b[39m, \u001b[32m1500\u001b[39m, \u001b[32m1580\u001b[39m, \u001b[32m1650\u001b[39m, \u001b[32m1720\u001b[39m, \u001b[32m1800\u001b[39m])\n",
      "\u001b[31mModuleNotFoundError\u001b[39m: No module named 'numpy'"
     ]
    }
   ],
   "source": [
    "import numpy as np\n",
    "\n",
    "# 1.1\n",
    "kampala = np.array([1200, 1250, 1300, 1350, 1420, 1500, 1580, 1650, 1720, 1800])\n",
    "wakiso  = np.array([950, 1000, 1070, 1150, 1220, 1300, 1390, 1480, 1570, 1670])\n",
    "gulu    = np.array([320, 330, 345, 360, 375, 390, 410, 430, 455, 480])\n",
    "\n",
    "print(kampala)\n",
    "print(wakiso)\n",
    "print(gulu)"
   ]
  },
  {
   "cell_type": "code",
   "execution_count": null,
   "id": "c4edf492",
   "metadata": {},
   "outputs": [],
   "source": [
    "# 1.2\n",
    "import statistics as stat\n",
    "\n",
    "# kampala district\n",
    "print(stat.mean(kampala))\n",
    "print(stat.median(kampala))\n",
    "print(stat.stdev(kampala))\n",
    "print(stat.variance(kampala))\n",
    "\n",
    "# wakiso district\n",
    "print(stat.mean(wakiso))\n",
    "print(stat.median(wakiso))\n",
    "print(stat.stdev(wakiso))\n",
    "print(stat.variance(wakiso))\n",
    "\n",
    "# gulu district\n",
    "print(stat.mean(gulu))\n",
    "print(stat.median(gulu))\n",
    "print(stat.stdev(gulu))\n",
    "print(stat.variance(gulu))"
   ]
  },
  {
   "cell_type": "code",
   "execution_count": null,
   "id": "159d262f",
   "metadata": {},
   "outputs": [],
   "source": [
    "# 1.3\n",
    "\n",
    "# 0,1,1,2,3\n",
    "n = 5\n",
    "fib=np.zeros(n, dtype=int)\n",
    "fib[0]=0\n",
    "fib[1]=1\n",
    "for k in range(n-2):\n",
    "    fib[k+2] = fib[k+1]+fib[k]\n",
    "\n",
    "print(fib)\n",
    "\n",
    "# project the next five years of growth, how?\n",
    "kla_projected = np.array([])\n",
    "wak_projected = np.array([])\n",
    "glu_projected = np.array([])\n"
   ]
  },
  {
   "cell_type": "code",
   "execution_count": null,
   "id": "4e1ed278",
   "metadata": {},
   "outputs": [],
   "source": [
    "# 1.4\n",
    "# compare var actual vs projected, how to compare? minus?\n",
    "\n",
    "# kampala\n",
    "kla_act_var = stat.variance(kampala)\n",
    "kla_proj_var = stat.variance(kampala)\n",
    "\n",
    "# wakiso\n",
    "wak_act_var = stat.variance(wakiso)\n",
    "wak_proj_var = stat.variance(wakiso)\n",
    "\n",
    "# gulu\n",
    "glu_act_var = stat.variance(gulu)\n",
    "glu_proj_var = stat.variance(gulu)"
   ]
  },
  {
   "cell_type": "code",
   "execution_count": null,
   "id": "c3114518",
   "metadata": {},
   "outputs": [],
   "source": [
    "# 1.5 Plot\n",
    "import matplotlib.pyplot as plt\n",
    "\n",
    "#Kampala\n",
    "plt.plot(kampala,kla_projected)\n",
    "\n",
    "plt.xlabel('Actual')\n",
    "plt.ylabel('Projected')\n",
    "\n",
    "plt.title('Kampala: Actual vs Projected Populations')\n",
    "\n",
    "plt.show()\n",
    "\n",
    "# Wakiso\n",
    "plt.plot(wakiso,wak_projected)\n",
    "\n",
    "plt.xlabel('Actual')\n",
    "plt.ylabel('Projected')\n",
    "\n",
    "plt.title('Wakiso: Actual vs Projected Populations')\n",
    "\n",
    "plt.show()\n",
    "\n",
    "# Gulu\n",
    "plt.plot(gulu,glu_projected)\n",
    "\n",
    "plt.xlabel('Actual')\n",
    "plt.ylabel('Projected')\n",
    "\n",
    "plt.title('Gulu: Actual vs Projected Populations')\n",
    "\n",
    "plt.show()"
   ]
  },
  {
   "cell_type": "markdown",
   "id": "8aa5c2e6",
   "metadata": {},
   "source": [
    "Question 2: Solar Micro-Grid Simulation"
   ]
  },
  {
   "cell_type": "code",
   "execution_count": null,
   "id": "3b4379dd",
   "metadata": {},
   "outputs": [],
   "source": [
    "# 2.1\n",
    "#prompt user, how to force an integer or number really\n",
    "d1 = input(\"Enter daily demand value D1 (as a number)?:\")\n",
    "d2 = input(\"Enter daily demand value D2 (as a number)?:\")"
   ]
  },
  {
   "cell_type": "code",
   "execution_count": null,
   "id": "c506a79a",
   "metadata": {},
   "outputs": [],
   "source": [
    "# 2.2\n",
    "from scipy import linalg\n",
    "\n",
    "# 3x + 2y = D1\n",
    "# 4x + y = D2\n",
    "\n",
    "a = np.array([[3,2],\n",
    "             [4,1]])\n",
    "b = np.array([d1,d2])\n",
    "\n",
    "solution = linalg.solve(a,b)\n",
    "\n",
    "print(\"Energy from solar panels and batteries:\", solution)"
   ]
  },
  {
   "cell_type": "code",
   "execution_count": null,
   "id": "173f08c0",
   "metadata": {},
   "outputs": [],
   "source": [
    "# 2.3\n",
    "week_demand_values = np.array([[],[]]) #eh how I will need to check\n",
    "\n",
    "for i in range(7):\n",
    "    xx = input(\"Enter daily demand value D1 (as a number) for day ?:\")\n",
    "    yy = input(\"Enter daily demand value D2 (as a number) for day ?:\")\n",
    "    # add to the array\n",
    "\n",
    "# print the array\n",
    "print(week_demand_values)"
   ]
  },
  {
   "cell_type": "code",
   "execution_count": null,
   "id": "04993dde",
   "metadata": {},
   "outputs": [],
   "source": [
    "# 2.4\n",
    "\n",
    "# eh, needs more action\n",
    "# stats!\n",
    "\n",
    "solar_values = np.array([])\n",
    "battery_values = np.array([])"
   ]
  },
  {
   "cell_type": "code",
   "execution_count": null,
   "id": "1aeadb22",
   "metadata": {},
   "outputs": [],
   "source": [
    "# 2.5\n",
    "\n",
    "plt.plot(kampala,kla_projected)\n",
    "\n",
    "plt.xlabel('Solar')\n",
    "plt.ylabel('Battery')\n",
    "\n",
    "plt.title('Solar vs Battery Usage')\n",
    "\n",
    "plt.show()"
   ]
  },
  {
   "cell_type": "markdown",
   "id": "bc561f87",
   "metadata": {},
   "source": [
    "Question 3: Lake Victoria Fish Export Risk Model"
   ]
  },
  {
   "cell_type": "code",
   "execution_count": null,
   "id": "f2bd429f",
   "metadata": {},
   "outputs": [],
   "source": [
    "# 3.1\n",
    "# 0,1,1,2,3\n",
    "n = 55\n",
    "fib=np.zeros(n, dtype=int)\n",
    "fib[0]=0\n",
    "fib[1]=1\n",
    "for k in range(n-2):\n",
    "    fib[k+2] = fib[k+1]+fib[k]\n",
    "\n",
    "print(fib)\n",
    "\n",
    "# simulate fish growth, how?\n",
    "fish_stock = np.array([])"
   ]
  },
  {
   "cell_type": "code",
   "execution_count": null,
   "id": "969baea4",
   "metadata": {},
   "outputs": [],
   "source": [
    "# 3.2\n",
    "# simulate fish prices as well\n",
    "\n",
    "fish_prices = np.array([])\n"
   ]
  },
  {
   "cell_type": "code",
   "execution_count": null,
   "id": "3c68c8c1",
   "metadata": {},
   "outputs": [],
   "source": [
    "# 3.3\n",
    "daily_revenue = np.multiply() #idk\n"
   ]
  },
  {
   "cell_type": "code",
   "execution_count": null,
   "id": "b23f21f3",
   "metadata": {},
   "outputs": [],
   "source": [
    "# 3.4\n",
    "# statistics of daily revenue\n",
    "print(stat.mean(daily_revenue))\n",
    "print(stat.median(daily_revenue))\n",
    "\n",
    "daily_revenue_variance = stat.variance(daily_revenue)\n",
    "print(daily_revenue_variance)"
   ]
  },
  {
   "cell_type": "code",
   "execution_count": null,
   "id": "b8598a8f",
   "metadata": {},
   "outputs": [],
   "source": [
    "# 3.5\n",
    "if daily_revenue_variance > 50000:\n",
    "    print(\"High risk\")\n",
    "else:\n",
    "    print(\"Low risk\")"
   ]
  },
  {
   "cell_type": "code",
   "execution_count": null,
   "id": "14f9ffbc",
   "metadata": {},
   "outputs": [],
   "source": [
    "# 3.5\n",
    "\n",
    "plt.plot(fish_stock,daily_revenue)\n",
    "\n",
    "plt.xlabel('Fish stock')\n",
    "plt.ylabel('Daily Revenue Trend')\n",
    "\n",
    "plt.title('Fish stock vs Daily Revenue Trend')\n",
    "\n",
    "plt.show()"
   ]
  },
  {
   "cell_type": "markdown",
   "id": "d7449b62",
   "metadata": {},
   "source": [
    "Question 4: Weather & Agriculture Analysis"
   ]
  },
  {
   "cell_type": "code",
   "execution_count": null,
   "id": "3c1dd267",
   "metadata": {},
   "outputs": [],
   "source": [
    "# 4.1\n",
    "kla_rainfall = np.array([120, 140, 180, 200, 220, 180, 90, 70, 60, 100, 110, 130])"
   ]
  },
  {
   "cell_type": "code",
   "execution_count": null,
   "id": "364b12c3",
   "metadata": {},
   "outputs": [],
   "source": [
    "# 4.2\n",
    "rainfall_mean = stat.mean(kla_rainfall)\n",
    "\n",
    "print(\"Kampala mean: \", rainfall_mean)\n",
    "\n",
    "# classify months, \n",
    "# iterate months\n",
    "rain_amount = 0\n",
    "if rain_amount > 150:\n",
    "    #add to array\n",
    "    str_class = \"Good for maize\"\n",
    "else:\n",
    "    str_class = \"Drought risk\"\n"
   ]
  },
  {
   "cell_type": "code",
   "execution_count": null,
   "id": "2c37c53d",
   "metadata": {},
   "outputs": [],
   "source": [
    "# 4.3\n",
    "# simulate gulu\n",
    "gulu_rainfall = np.array([])\n",
    "\n"
   ]
  },
  {
   "cell_type": "code",
   "execution_count": null,
   "id": "67d78ab9",
   "metadata": {},
   "outputs": [],
   "source": [
    "# 4.4\n",
    "# Compute cosine similarity of Kampala vs Gulu rainfall trends using math.cos(). "
   ]
  },
  {
   "cell_type": "code",
   "execution_count": null,
   "id": "c1743753",
   "metadata": {},
   "outputs": [],
   "source": [
    "# 4.5\n",
    "\n",
    "# using the cosine? or using the monthly rain?\n",
    "plt.plot(fish_stock,daily_revenue)\n",
    "\n",
    "plt.xlabel('Rainfall data')\n",
    "plt.ylabel('Months')\n",
    "\n",
    "plt.title('Kampala and Gulu Rainfall')\n",
    "\n",
    "plt.show()"
   ]
  },
  {
   "cell_type": "markdown",
   "id": "5c9af6b4",
   "metadata": {},
   "source": [
    "Question 5:  Taxi Transport Revenue & Variability"
   ]
  },
  {
   "cell_type": "code",
   "execution_count": null,
   "id": "2872a3ae",
   "metadata": {},
   "outputs": [],
   "source": [
    "# 5.1\n",
    "passenger_counts = np.array([35, 40, 42, 50, 55, 60, 48, 52, 47, \n",
    "45])\n",
    "\n",
    "print(passenger_counts)"
   ]
  },
  {
   "cell_type": "code",
   "execution_count": null,
   "id": "bbe69b3d",
   "metadata": {},
   "outputs": [],
   "source": [
    "# 5.2\n",
    "kla_ntd_revenues = passenger_counts * 2000\n",
    "\n",
    "print(kla_ntd_revenues)"
   ]
  },
  {
   "cell_type": "code",
   "execution_count": null,
   "id": "94d1a91d",
   "metadata": {},
   "outputs": [],
   "source": [
    "# 5.3\n",
    "\n",
    "print(stat.mean(kla_ntd_revenues))\n",
    "print(stat.stdev(kla_ntd_revenues))\n",
    "print(stat.variance(kla_ntd_revenues))"
   ]
  },
  {
   "cell_type": "code",
   "execution_count": null,
   "id": "7d7499e8",
   "metadata": {},
   "outputs": [],
   "source": [
    "# 5.4\n",
    "# okay\n",
    "# model a simple supply-demand system\n"
   ]
  },
  {
   "cell_type": "code",
   "execution_count": null,
   "id": "58924c03",
   "metadata": {},
   "outputs": [],
   "source": [
    "# 5.5\n",
    "# forecast the 11th days revenue"
   ]
  },
  {
   "cell_type": "code",
   "execution_count": null,
   "id": "95fb3325",
   "metadata": {},
   "outputs": [],
   "source": [
    "# 5.6\n",
    "plt.plot(fish_stock,daily_revenue)\n",
    "\n",
    "plt.xlabel('Rainfall data')\n",
    "plt.ylabel('Months')\n",
    "\n",
    "plt.title('Actual vs Forecasted revenues')\n",
    "\n",
    "plt.show()"
   ]
  }
 ],
 "metadata": {
  "kernelspec": {
   "display_name": "Python 3",
   "language": "python",
   "name": "python3"
  },
  "language_info": {
   "codemirror_mode": {
    "name": "ipython",
    "version": 3
   },
   "file_extension": ".py",
   "mimetype": "text/x-python",
   "name": "python",
   "nbconvert_exporter": "python",
   "pygments_lexer": "ipython3",
   "version": "3.13.3"
  }
 },
 "nbformat": 4,
 "nbformat_minor": 5
}
